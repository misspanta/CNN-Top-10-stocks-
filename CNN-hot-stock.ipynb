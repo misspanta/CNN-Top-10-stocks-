{
 "cells": [
  {
   "cell_type": "code",
   "execution_count": 1,
   "metadata": {},
   "outputs": [
    {
     "name": "stdout",
     "output_type": "stream",
     "text": [
      "Success! Program has been executed!\n"
     ]
    }
   ],
   "source": [
    "import urllib.request \n",
    "from urllib.request import urlopen\n",
    "import requests \n",
    "import re\n",
    "import sqlite3\n",
    "\n",
    "#saving the website to be scraped\n",
    "myurl = 'https://money.cnn.com/data/hotstocks/'\n",
    "\n",
    "#create an empty list to gather information later\n",
    "stocks=[]\n",
    "\n",
    "\n",
    "try: \n",
    "    hotstocks_handle=requests.get(myurl)          #get the url source code\n",
    "    #Open the website source code in text format\n",
    "    hotstocks_text=hotstocks_handle.text     \n",
    "\n",
    "    these_regex=\"<a.+>(.+?)</a>\"            #regex funtion to zone in on the information needed\n",
    "    pattern=re.compile(these_regex)         #gather all tickers into a single list\n",
    "        \n",
    "        \n",
    "    #slicing the source code for the section that we need\n",
    "    part_text=hotstocks_text[hotstocks_text.find('Most Actives'):hotstocks_text.find('Gainers')] \n",
    "\n",
    "    #executing the regex funtion to find all tickers from the sliced section\n",
    "    tickers=re.findall(pattern, part_text)\n",
    "        \n",
    "except:\n",
    "    print('Could not load information at this time. Check back again later!')\n",
    "    sys.exit(1)  #quit program if failed\n",
    "\n",
    "\n",
    "with open('stocks.txt', 'w') as myfile:       #creating and opening the file in write mode to edit new information \n",
    "    for ticker in tickers:                    #iterate through each ticker collected\n",
    "        stock_url='https://finance.yahoo.com/quote/'+ticker+'?p='+ticker+'&.tsrc=fin-srch-v1'   #custom url for each ticker\n",
    "        stock_handle=requests.get(stock_url)\n",
    "        stock_text=stock_handle.text\n",
    "    \n",
    "        close_value=re.findall('PREV_CLOSE-value.+?><.+?>(.+?)</span>', stock_text)           #re to find the exact price of stock\n",
    "        for num in close_value:\n",
    "            c_value=num                                                              #turning list into string\n",
    "        \n",
    "        open_value=re.findall('OPEN-value.+?><.+?>(.+?)</span>', stock_text)\n",
    "        for num in open_value:\n",
    "            o_value=num\n",
    "        \n",
    "        volume=re.findall('TD_VOLUME-value.+?><.+?>(.+?)</span>', stock_text)\n",
    "        for num in volume:\n",
    "            v_value=num.replace(',','')                                        #removing commas from the volume number\n",
    "        \n",
    "        pos=[ticker, o_value, c_value, v_value]                                #saving ticker name and all information in a list\n",
    "        \n",
    "        for elem in pos:\n",
    "            myfile.write(elem+',')                                           #writing the list in the open text file with commas seperating each charachter\n",
    "        \n",
    "        stocks.append(pos)                                                  #adding each iteration to the main list\n",
    "\n",
    "conn = sqlite3.connect('StocksDatabase.sqlite')                         #creating and opening database file\n",
    "cur = conn.cursor()           \n",
    "\n",
    "cur.execute('DROP TABLE IF EXISTS StocksTable')                      #deleting if the table already exists to put in fresh values\n",
    "cur.execute('CREATE TABLE StocksTable (Ticker TEXT, OpenPrice REAL, PrevClose REAL, Volume INTEGER)')   #creating a table of 4 columns with all information needed\n",
    "\n",
    "for stock in stocks:\n",
    "    insertcmd= 'INSERT INTO StocksTable (Ticker, OpenPrice, PrevClose, Volume) VALUES (?,?,?,?)'       #adding each stock information as rows to respective columns\n",
    "    cur.execute(insertcmd , (stock [0], stock [1], stock[2], stock[3]))\n",
    "\n",
    "conn.commit()   #saving the database file\n",
    "cur.close()     #closing the database file\n",
    "\n",
    "print(\"Success! Program has been executed!\")\n"
   ]
  },
  {
   "cell_type": "code",
   "execution_count": null,
   "metadata": {},
   "outputs": [],
   "source": []
  }
 ],
 "metadata": {
  "kernelspec": {
   "display_name": "Python 3",
   "language": "python",
   "name": "python3"
  },
  "language_info": {
   "codemirror_mode": {
    "name": "ipython",
    "version": 3
   },
   "file_extension": ".py",
   "mimetype": "text/x-python",
   "name": "python",
   "nbconvert_exporter": "python",
   "pygments_lexer": "ipython3",
   "version": "3.8.5"
  }
 },
 "nbformat": 4,
 "nbformat_minor": 2
}
